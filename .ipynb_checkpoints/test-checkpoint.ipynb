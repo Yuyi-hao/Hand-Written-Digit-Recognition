{
 "cells": [
  {
   "cell_type": "code",
   "execution_count": 3,
   "metadata": {},
   "outputs": [
    {
     "name": "stdout",
     "output_type": "stream",
     "text": [
      "Using matplotlib backend: QtAgg\n"
     ]
    }
   ],
   "source": [
    "import os \n",
    "import cv2 # computer vision \n",
    "import numpy as np # to work with array\n",
    "import matplotlib.pyplot as plt # for visualization \n",
    "import tensorflow as tf\n",
    "from keras.models import load_model\n",
    "\n",
    "\n",
    "MODEL = load_model(\"bestmodel.h5\")\n",
    "\n",
    "%matplotlib\n",
    "\n",
    "import random \n",
    "images = [7,8,9,10]\n",
    "image_number = random.choice(images)\n",
    "images.remove(image_number)\n",
    "while  image_number != None and os.path.isfile(f\"{image_number}.png\"):\n",
    "    img = cv2.imread(f\"{image_number}.png\")[:,:,0]\n",
    "    img = np.invert(np.array([img]))\n",
    "    prediction = MODEL.predict(img)\n",
    "    print(f\"this digit is : {np.argmax(prediction)}\")\n",
    "    plt.imshow(img[0], cmap=plt.cm.binary)\n",
    "    plt.show()\n",
    "    image_number +=1"
   ]
  }
 ],
 "metadata": {
  "kernelspec": {
   "display_name": "Python 3.10.1 64-bit",
   "language": "python",
   "name": "python3"
  },
  "language_info": {
   "codemirror_mode": {
    "name": "ipython",
    "version": 3
   },
   "file_extension": ".py",
   "mimetype": "text/x-python",
   "name": "python",
   "nbconvert_exporter": "python",
   "pygments_lexer": "ipython3",
   "version": "3.10.1"
  },
  "orig_nbformat": 4,
  "vscode": {
   "interpreter": {
    "hash": "31671a60cee805c34c73116577b485118ff3a75c458d3004d49632c19702ac60"
   }
  }
 },
 "nbformat": 4,
 "nbformat_minor": 2
}
