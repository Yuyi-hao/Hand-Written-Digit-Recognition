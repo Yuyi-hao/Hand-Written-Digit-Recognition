{
 "cells": [
  {
   "cell_type": "markdown",
   "id": "91b51c56-af78-4aa7-afae-8a9a5f249713",
   "metadata": {},
   "source": [
    "## Library"
   ]
  },
  {
   "cell_type": "code",
   "execution_count": 1,
   "id": "a1357160-280b-4513-bea6-6668e8079e1a",
   "metadata": {},
   "outputs": [],
   "source": [
    "import numpy as np \n",
    "import matplotlib.pyplot as plt\n",
    "import keras\n",
    "\n",
    "from keras.datasets import mnist\n",
    "\n",
    "from keras.models import Sequential\n",
    "from keras.layers import Dense, MaxPool2D, Flatten, Dropout\n",
    "from keras.layers import Convolution2D as Conv2D"
   ]
  },
  {
   "cell_type": "code",
   "execution_count": 2,
   "id": "c4d02a78-5243-4b35-80aa-1e5a5eec3e9f",
   "metadata": {},
   "outputs": [
    {
     "data": {
      "text/plain": [
       "((60000, 28, 28), (60000,), (10000, 28, 28), (10000,))"
      ]
     },
     "execution_count": 2,
     "metadata": {},
     "output_type": "execute_result"
    }
   ],
   "source": [
    "(X_train, y_train), (X_test, y_test) = mnist.load_data()\n",
    "X_train.shape, y_train.shape, X_test.shape, y_test.shape"
   ]
  },
  {
   "cell_type": "code",
   "execution_count": 3,
   "id": "678f426a-fe57-4f30-936d-2f53b897557f",
   "metadata": {},
   "outputs": [],
   "source": [
    "# pre-process the data converting to binary color\n",
    "X_train = X_train.astype(np.float32)/255\n",
    "x_test = X_test.astype(np.float32)/255\n",
    "\n",
    "# Reshape/Expand the dimension of images to (28,28,1)\n",
    "np.expand_dims(X_train, -1)\n",
    "np.expand_dims(X_test, -1)\n",
    "\n",
    "# convert classes to one-hot vector\n",
    "y_train = keras.utils.to_categorical(y_train)\n",
    "y_test = keras.utils.to_categorical(y_test)"
   ]
  },
  {
   "cell_type": "code",
   "execution_count": 4,
   "id": "d5a042cf-733d-49aa-b969-2fee4990231d",
   "metadata": {},
   "outputs": [],
   "source": [
    "# train models "
   ]
  },
  {
   "cell_type": "code",
   "execution_count": 5,
   "id": "1808b614-4d60-42fc-8119-c5dc37675637",
   "metadata": {},
   "outputs": [],
   "source": [
    "model = Sequential()\n",
    "model.add(Conv2D(filters = 32, kernel_size=(3,3), input_shape=(28,28,1), activation = \"relu\"))\n",
    "model.add(MaxPool2D(2,2))\n",
    "\n",
    "model.add(Conv2D(64, (3,3), activation = \"relu\"))\n",
    "model.add(MaxPool2D(2,2))\n",
    "\n",
    "model.add(Flatten())\n",
    "model.add(Dropout(0.25))\n",
    "model.add(Dense(10, activation = \"softmax\"))"
   ]
  },
  {
   "cell_type": "code",
   "execution_count": 6,
   "id": "6139e13f-d492-4f2d-8449-d91950c16ac8",
   "metadata": {},
   "outputs": [
    {
     "name": "stdout",
     "output_type": "stream",
     "text": [
      "Model: \"sequential\"\n",
      "_________________________________________________________________\n",
      " Layer (type)                Output Shape              Param #   \n",
      "=================================================================\n",
      " conv2d (Conv2D)             (None, 26, 26, 32)        320       \n",
      "                                                                 \n",
      " max_pooling2d (MaxPooling2D  (None, 13, 13, 32)       0         \n",
      " )                                                               \n",
      "                                                                 \n",
      " conv2d_1 (Conv2D)           (None, 11, 11, 64)        18496     \n",
      "                                                                 \n",
      " max_pooling2d_1 (MaxPooling  (None, 5, 5, 64)         0         \n",
      " 2D)                                                             \n",
      "                                                                 \n",
      " flatten (Flatten)           (None, 1600)              0         \n",
      "                                                                 \n",
      " dropout (Dropout)           (None, 1600)              0         \n",
      "                                                                 \n",
      " dense (Dense)               (None, 10)                16010     \n",
      "                                                                 \n",
      "=================================================================\n",
      "Total params: 34,826\n",
      "Trainable params: 34,826\n",
      "Non-trainable params: 0\n",
      "_________________________________________________________________\n"
     ]
    }
   ],
   "source": [
    "model.summary()"
   ]
  },
  {
   "cell_type": "code",
   "execution_count": 7,
   "id": "535daeef-0ff2-4cb0-8319-b98b4a91a19d",
   "metadata": {},
   "outputs": [],
   "source": [
    "model.compile(optimizer = \"adam\", loss = keras.losses.categorical_crossentropy, metrics=\"accuracy\")"
   ]
  },
  {
   "cell_type": "code",
   "execution_count": 8,
   "id": "045024b1-b330-4e5a-ab99-807eabc083ea",
   "metadata": {},
   "outputs": [],
   "source": [
    "# callback \n",
    "from keras.callbacks import EarlyStopping, ModelCheckpoint\n",
    "\n",
    "# EarlyStopping\n",
    "early_stopping = EarlyStopping(monitor=\"val_accuracy\", min_delta=0.01, patience=4, verbose=1)\n",
    "\n",
    "# Model check points \n",
    "model_checkpoint = ModelCheckpoint(\"./bestmodel.h5\", monitor=\"val_accuracy\", verbose=1, save_best_only = True)\n",
    "\n",
    "callback = [early_stopping, model_checkpoint]\n"
   ]
  },
  {
   "cell_type": "code",
   "execution_count": 9,
   "id": "d17064d6-04ab-4733-a5f3-22f9c2d1f93d",
   "metadata": {},
   "outputs": [
    {
     "name": "stdout",
     "output_type": "stream",
     "text": [
      "Epoch 1/50\n",
      "1311/1313 [============================>.] - ETA: 0s - loss: 0.2151 - accuracy: 0.9343\n",
      "Epoch 1: val_accuracy improved from -inf to 0.97378, saving model to .\\bestmodel.h5\n",
      "1313/1313 [==============================] - 43s 32ms/step - loss: 0.2149 - accuracy: 0.9344 - val_loss: 0.0844 - val_accuracy: 0.9738\n",
      "Epoch 2/50\n",
      "1312/1313 [============================>.] - ETA: 0s - loss: 0.0718 - accuracy: 0.9777\n",
      "Epoch 2: val_accuracy improved from 0.97378 to 0.98067, saving model to .\\bestmodel.h5\n",
      "1313/1313 [==============================] - 42s 32ms/step - loss: 0.0718 - accuracy: 0.9777 - val_loss: 0.0646 - val_accuracy: 0.9807\n",
      "Epoch 3/50\n",
      "1312/1313 [============================>.] - ETA: 0s - loss: 0.0542 - accuracy: 0.9829\n",
      "Epoch 3: val_accuracy improved from 0.98067 to 0.98567, saving model to .\\bestmodel.h5\n",
      "1313/1313 [==============================] - 43s 33ms/step - loss: 0.0543 - accuracy: 0.9829 - val_loss: 0.0476 - val_accuracy: 0.9857\n",
      "Epoch 4/50\n",
      "1311/1313 [============================>.] - ETA: 0s - loss: 0.0450 - accuracy: 0.9853\n",
      "Epoch 4: val_accuracy did not improve from 0.98567\n",
      "1313/1313 [==============================] - 43s 33ms/step - loss: 0.0451 - accuracy: 0.9853 - val_loss: 0.0471 - val_accuracy: 0.9856\n",
      "Epoch 5/50\n",
      "1311/1313 [============================>.] - ETA: 0s - loss: 0.0374 - accuracy: 0.9880\n",
      "Epoch 5: val_accuracy improved from 0.98567 to 0.98789, saving model to .\\bestmodel.h5\n",
      "1313/1313 [==============================] - 42s 32ms/step - loss: 0.0373 - accuracy: 0.9880 - val_loss: 0.0429 - val_accuracy: 0.9879\n",
      "Epoch 6/50\n",
      "1312/1313 [============================>.] - ETA: 0s - loss: 0.0324 - accuracy: 0.9895\n",
      "Epoch 6: val_accuracy improved from 0.98789 to 0.98794, saving model to .\\bestmodel.h5\n",
      "1313/1313 [==============================] - 42s 32ms/step - loss: 0.0324 - accuracy: 0.9895 - val_loss: 0.0396 - val_accuracy: 0.9879\n",
      "Epoch 7/50\n",
      "1312/1313 [============================>.] - ETA: 0s - loss: 0.0291 - accuracy: 0.9907\n",
      "Epoch 7: val_accuracy did not improve from 0.98794\n",
      "1313/1313 [==============================] - 44s 33ms/step - loss: 0.0291 - accuracy: 0.9907 - val_loss: 0.0436 - val_accuracy: 0.9878\n",
      "Epoch 7: early stopping\n"
     ]
    }
   ],
   "source": [
    "# model training \n",
    "history = model.fit(X_train, y_train, epochs =50, validation_split= 0.3, callbacks = callback)"
   ]
  },
  {
   "cell_type": "code",
   "execution_count": 11,
   "id": "c3cbf46d-e09e-460e-ac0e-981f6e72d984",
   "metadata": {},
   "outputs": [
    {
     "name": "stdout",
     "output_type": "stream",
     "text": [
      "313/313 [==============================] - 3s 10ms/step - loss: 7.6600 - accuracy: 0.9867\n"
     ]
    },
    {
     "data": {
      "text/plain": [
       "0.9866999983787537"
      ]
     },
     "execution_count": 11,
     "metadata": {},
     "output_type": "execute_result"
    }
   ],
   "source": [
    "model_5 = keras.models.load_model(\"./bestmodel.h5\")\n",
    "score = model_5.evaluate(X_test, y_test)\n",
    "score[1]"
   ]
  },
  {
   "cell_type": "code",
   "execution_count": null,
   "id": "186a31cd-f00f-46c8-8e81-f7e0c1e5e8f5",
   "metadata": {},
   "outputs": [],
   "source": []
  }
 ],
 "metadata": {
  "kernelspec": {
   "display_name": "Python 3 (ipykernel)",
   "language": "python",
   "name": "python3"
  },
  "language_info": {
   "codemirror_mode": {
    "name": "ipython",
    "version": 3
   },
   "file_extension": ".py",
   "mimetype": "text/x-python",
   "name": "python",
   "nbconvert_exporter": "python",
   "pygments_lexer": "ipython3",
   "version": "3.10.1"
  }
 },
 "nbformat": 4,
 "nbformat_minor": 5
}
